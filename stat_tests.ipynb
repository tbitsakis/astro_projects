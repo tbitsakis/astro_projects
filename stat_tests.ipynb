{
 "cells": [
  {
   "cell_type": "markdown",
   "metadata": {},
   "source": [
    "# Statistical Tests\n",
    "In this notebook we are going to study various statistical tests."
   ]
  },
  {
   "cell_type": "code",
   "execution_count": null,
   "metadata": {},
   "outputs": [],
   "source": [
    "import numpy as np\n",
    "import scipy\n",
    "from scipy import stats\n",
    "import statsmodels.api as sm\n",
    "import matplotlib.pyplot as plt\n",
    "\n",
    "import warnings\n",
    "warnings.filterwarnings('ignore')\n"
   ]
  },
  {
   "cell_type": "markdown",
   "metadata": {},
   "source": [
    "1) __Kolmogorov-Smirnov test__: it tests the null hypothesis that two distributions are drawn from the same parent distribution."
   ]
  },
  {
   "cell_type": "code",
   "execution_count": 4,
   "metadata": {},
   "outputs": [
    {
     "data": {
      "image/png": "[encoded data removed]",
      "text/plain": [
       "<matplotlib.figure.Figure at 0x1147c6790>"
      ]
     },
     "metadata": {},
     "output_type": "display_data"
    }
   ],
   "source": [
    "x1 = np.random.normal(0,3,10000)\n",
    "x2 = np.random.normal(0,5,10000)\n",
    "\n",
    "plt.hist(x2,bins=30,alpha=0.3,label='$\\sigma$=5')\n",
    "plt.hist(x1,bins=30,alpha=0.3,label='$\\sigma$=3')\n",
    "plt.legend()\n",
    "plt.show()"
   ]
  },
  {
   "cell_type": "code",
   "execution_count": 14,
   "metadata": {},
   "outputs": [
    {
     "name": "stdout",
     "output_type": "stream",
     "text": [
      "Ks_2sampResult(statistic=0.13070000000000004, pvalue=7.2016423822488979e-75)\n"
     ]
    }
   ],
   "source": [
    "print(scipy.stats.ks_2samp(x1,x2))"
   ]
  },
  {
   "cell_type": "markdown",
   "metadata": {},
   "source": [
    "If the probability (pvalue) $<$0.01 then the two distributions are significantly different.\n",
    "\n",
    "In the following figure, we plot the Cumulative Distribution Functions of those distributions."
   ]
  },
  {
   "cell_type": "code",
   "execution_count": 24,
   "metadata": {},
   "outputs": [
    {
     "data": {
      "image/png": "[encoded data removed]",
      "text/plain": [
       "<matplotlib.figure.Figure at 0x10bdf7690>"
      ]
     },
     "metadata": {},
     "output_type": "display_data"
    }
   ],
   "source": [
    "def plot_cdf(x_data,y_data):\n",
    "    ecdf1 = sm.distributions.ECDF(x_data)\n",
    "    x1 = np.linspace(min(x_data), max(x_data))\n",
    "    x1 = np.array([x1[0]-(x1[1]-x1[0])]+list(x1))\n",
    "    y1 = ecdf1(x1)\n",
    "    \n",
    "    ecdf2 = sm.distributions.ECDF(y_data)\n",
    "    x2 = np.linspace(min(y_data), max(y_data))\n",
    "    x2 = np.array([x2[0]-(x2[1]-x2[0])]+list(x2))\n",
    "    y2 = ecdf2(x2)\n",
    "  \n",
    "    plt.plot(x1,y1,label='$\\sigma$=3')\n",
    "    plt.plot(x2,y2,label='$\\sigma$=5')\n",
    "    plt.xlabel('Arbitrary Units')\n",
    "    plt.ylabel('Probability')\n",
    "    plt.legend()\n",
    "    plt.show()\n",
    "   \n",
    "\n",
    "plot_cdf(x1,x2)"
   ]
  },
  {
   "cell_type": "markdown",
   "metadata": {},
   "source": [
    "2) __Mann-Whitney test__ or __Wilcoxon rank test__: it tests the null hypothesis that two distributions are drawn from the same parent distribution (which is not normal necessarily). The alternative hypothesis is that values in one sample are more likely to be larger than the values in the other sample.\n",
    "\n",
    "\"Unlike the t-test it does not require the assumption of normal distributions. It is nearly as efficient as the t-test on normal distributions.\"\n",
    "\n",
    "The null hypothesis for the Wicoxon test is:  P(X>Y)=P(X<Y)"
   ]
  },
  {
   "cell_type": "code",
   "execution_count": 29,
   "metadata": {},
   "outputs": [
    {
     "name": "stdout",
     "output_type": "stream",
     "text": [
      "Ks_2sampResult(statistic=0.023459999999999925, pvalue=2.3600886669730656e-24)\n",
      "RanksumsResult(statistic=-12.714428927623889, pvalue=4.9168842395563814e-37)\n"
     ]
    }
   ],
   "source": [
    "x = np.random.exponential(0.15,100000)\n",
    "y = np.random.exponential(0.16,100000)\n",
    "\n",
    "print scipy.stats.ks_2samp(x,y)\n",
    "print scipy.stats.ranksums(x,y)"
   ]
  },
  {
   "cell_type": "markdown",
   "metadata": {},
   "source": [
    "3) __Anderson–Darling test__: is a statistical test of whether a given sample of data is drawn from a given probability distribution (specialized for Gaussian distr.). In its basic form, the test assumes that there are no parameters to be estimated in the distribution being tested, in which case the test and its set of critical values is distribution-free."
   ]
  },
  {
   "cell_type": "code",
   "execution_count": 43,
   "metadata": {},
   "outputs": [
    {
     "name": "stdout",
     "output_type": "stream",
     "text": [
      "Ks_2sampResult(statistic=0.247, pvalue=2.2374952433348328e-05)\n",
      "Anderson-Darling Result, pvalue= 2.55118493595e-05\n"
     ]
    }
   ],
   "source": [
    "import random\n",
    "\n",
    "z = np.random.uniform(-3,3,100000)\n",
    "k = np.random.normal(0,1,100000)\n",
    "z.sort()\n",
    "x = [random.choice(z) for i in range(1000)]\n",
    "y = [random.choice(k) for i in range(100)]\n",
    "\n",
    "zz = np.array([np.array(x),np.array(y)])\n",
    "\n",
    "print scipy.stats.ks_2samp(x,y)\n",
    "res = scipy.stats.anderson_ksamp(zz)\n",
    "print 'Anderson-Darling Result, pvalue=',res[2]"
   ]
  },
  {
   "cell_type": "markdown",
   "metadata": {},
   "source": [
    "# When using what?\n",
    "When working with a data set we may be faced __two questions__:  \n",
    "- Is a set of samples consistent with following one of these distributions?  \n",
    "- Are two sets of samples drawn from the same distribution?  \n",
    "\n",
    "\n",
    "### Comparing a data set to a known (analytic) distribution\n",
    "- $\\chi^2$: Widely used, rigorously defined for known, Gaussian uncertainties.\n",
    "- Kolmogorov-Smirnov (KS): Widely used, compares maximum difference in CDF. Not great for small numbers or outliers.\n",
    "- Anderson-Darling: Integrated version of the KS test. Therefore better than KS for small numbers and outliers.\n",
    "- t-test: Determines whether a data set could be consistent with having a mean at some value.\n",
    "\n",
    "### Comparing two data sets\n",
    "- Mann-Whitney U (Wilcoxon rank sum): Assumes nothing about underlying distributions. Really only compares the medians.\n",
    "- Kolmogorov-Smirnov (KS): Widely used, compares maximum difference in CDF. Not great for small numbers of outliers.\n",
    "- Anderson-Darling: Integrated version of the KS test. Therefore better than KS for small numbers and outliers.\n",
    "- t-test: Tests if the means of two (assumed to be Gaussian) distributions equal. Distributions may have different variances - math is slightly different.\n",
    "- F-test: Tests if the means of two Gaussian distributions are equal.\n",
    "\n",
    "### Correlation tests\n",
    "- Pearson r or $\\rho$: Widely used, simple to implement. Easily skewed by outliers. Works for linear correlations.\n",
    "- Spearman r or $\\rho$: Handles outliers better. Linear not required -> works for any monotonic function.\n",
    "- Kendall $\\tau$: Also a rank test. Used to determine whether two variables are independent."
   ]
  },
  {
   "cell_type": "code",
   "execution_count": null,
   "metadata": {},
   "outputs": [],
   "source": []
  }
 ],
 "metadata": {
  "kernelspec": {
   "display_name": "Python 2",
   "language": "python",
   "name": "python2"
  },
  "language_info": {
   "codemirror_mode": {
    "name": "ipython",
    "version": 2
   },
   "file_extension": ".py",
   "mimetype": "text/x-python",
   "name": "python",
   "nbconvert_exporter": "python",
   "pygments_lexer": "ipython2",
   "version": "2.7.10"
  }
 },
 "nbformat": 4,
 "nbformat_minor": 2
}
