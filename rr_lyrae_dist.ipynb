{
 "cells": [
  {
   "cell_type": "markdown",
   "metadata": {},
   "source": [
    "# Derive the distance of M4 globular cluster using the period-luminosity relation from RR-Lyrae stars\n",
    "\n",
    "I will use the well-known relation between the period and luminosity of 37 RR-Lyrae stars found in the M4 globular cluster to estimate its distance. I'm using the Neely et al. (2015) Spitzer Space Telescope observations from the http://vizier.u-strasbg.fr/viz-bin/VizieR?-source=J/ApJ/808/11 repository."
   ]
  },
  {
   "cell_type": "code",
   "execution_count": 122,
   "metadata": {},
   "outputs": [],
   "source": [
    "# Importing libraries\n",
    "import numpy as np\n",
    "from astropy.table import Table\n",
    "import matplotlib.pyplot as plt\n",
    "\n",
    "%matplotlib inline"
   ]
  },
  {
   "cell_type": "code",
   "execution_count": 123,
   "metadata": {},
   "outputs": [],
   "source": [
    "# Reading input files downloaded from CDS\n",
    "readme = 'data/ReadMe.txt'\n",
    "rr_lyrae_data   = Table.read('data/table2.dat', readme=readme, format='cds')\n",
    "# print(rr_lyrae_data.columns)"
   ]
  },
  {
   "cell_type": "code",
   "execution_count": 124,
   "metadata": {},
   "outputs": [],
   "source": [
    "# Selecting the data\n",
    "rr_lyrae = rr_lyrae_data[np.where(rr_lyrae_data['Mode'] == 'RRab')] # We will only need the RRab data\n",
    "# the authors also mention that data for sources V20 and V21 are not good due to blending\n",
    "rr_lyrae = rr_lyrae[np.where(rr_lyrae['ID'] != 'V20')]\n",
    "rr_lyrae = rr_lyrae[np.where(rr_lyrae['ID'] != 'V21')]"
   ]
  },
  {
   "cell_type": "code",
   "execution_count": 125,
   "metadata": {
    "scrolled": true
   },
   "outputs": [
    {
     "data": {
      "image/png": "[encoded data removed]",
      "text/plain": [
       "<matplotlib.figure.Figure at 0x1070d66d0>"
      ]
     },
     "metadata": {},
     "output_type": "display_data"
    }
   ],
   "source": [
    "# Plotting and fitting the data-sets\n",
    "fig, ax = plt.subplots(1,2,figsize=(8,4))\n",
    "\n",
    "for i in np.arange(2):\n",
    "    ax[i].set_xlim(-0.15,0.23)\n",
    "    ax[i].set_ylim(11.3,10.3)\n",
    "    ax[i].set_xticks([-0.1,0.0,0.1,0.2])\n",
    "\n",
    "ax[0].set_xlabel('Log Period (days) + 0.26') # log(P) = -0.26 is a representative number of the mean period of the RRab \n",
    "ax[1].set_xlabel('Log Period (days) + 0.26')\n",
    "ax[0].set_ylabel('IRAC [3.6]')\n",
    "ax[1].set_ylabel('IRAC [4.5]')\n",
    "\n",
    "# Scatter plots\n",
    "ax[0].errorbar(rr_lyrae['logP']+0.26,rr_lyrae['[3.6]'],yerr=rr_lyrae['e_[3.6]'],fmt='o',marker='.',color='k')\n",
    "ax[1].errorbar(rr_lyrae['logP']+0.26,rr_lyrae['[4.5]'],yerr=rr_lyrae['e_[4.5]'],fmt='o',marker='.',color='k')\n",
    "\n",
    "# Line fitting\n",
    "lin1 = np.polyfit(rr_lyrae['logP']+0.26,rr_lyrae['[3.6]'],1)\n",
    "lin2 = np.polyfit(rr_lyrae['logP']+0.26,rr_lyrae['[4.5]'],1)\n",
    "\n",
    "# Line plots\n",
    "x = [-0.15,0.23]\n",
    "y1 = np.array([lin1[0]])*x + np.array([lin1[1]])\n",
    "y2 = np.array([lin2[0]])*x + np.array([lin2[1]])\n",
    "ax[0].plot(x,y1,color='r')\n",
    "ax[1].plot(x,y2,color='r')\n",
    "\n",
    "plt.tight_layout()"
   ]
  },
  {
   "cell_type": "markdown",
   "metadata": {},
   "source": [
    "The two relations are:"
   ]
  },
  {
   "cell_type": "code",
   "execution_count": 131,
   "metadata": {},
   "outputs": [
    {
     "name": "stdout",
     "output_type": "stream",
     "text": [
      "m_3.6 = -2.31 (log P + 0.26) + 10.91\n",
      "m_4.5 = -2.3 (log P + 0.26) + 10.86\n"
     ]
    }
   ],
   "source": [
    "print('m_3.6 = ' + str(np.around(lin1[0], decimals=2)) + ' (log P + 0.26) + ' + str(np.around(lin1[1], decimals=2)))\n",
    "print('m_4.5 = ' + str(np.around(lin2[0], decimals=2)) + ' (log P + 0.26) + ' + str(np.around(lin2[1], decimals=2)))"
   ]
  },
  {
   "cell_type": "markdown",
   "metadata": {},
   "source": [
    "whereas the corresponding relations for the RR-Lyrae stars in our Galaxy are:\n",
    "$$\n",
    "M_{[3.6]} = -2.19\\ {\\rm log}\\ P - 1.176\n",
    "$$\n",
    "\n",
    "$$\n",
    "M_{[4.5]} = -2.12\\ {\\rm log}\\ P - 1.199\n",
    "$$\n",
    "\n",
    "therefore the distance modulus (https://en.wikipedia.org/wiki/Distance_modulus) is given by:\n",
    "$$\n",
    "\\mu_{[3.6]} = \\left( m_{[3.6]} - M_{[3.6]} \\right) =\n",
    "$$"
   ]
  },
  {
   "cell_type": "code",
   "execution_count": 133,
   "metadata": {},
   "outputs": [
    {
     "name": "stdout",
     "output_type": "stream",
     "text": [
      "12.086\n"
     ]
    }
   ],
   "source": [
    "print(10.91+1.176)"
   ]
  },
  {
   "cell_type": "markdown",
   "metadata": {},
   "source": [
    "and \n",
    "$$\n",
    "\\mu_{[4.5]} = \\left( m_{[4.5]} - M_{[4.5]} \\right) =\n",
    "$$"
   ]
  },
  {
   "cell_type": "code",
   "execution_count": 134,
   "metadata": {},
   "outputs": [
    {
     "name": "stdout",
     "output_type": "stream",
     "text": [
      "12.059\n"
     ]
    }
   ],
   "source": [
    "print(10.86+1.199)"
   ]
  },
  {
   "cell_type": "code",
   "execution_count": null,
   "metadata": {},
   "outputs": [],
   "source": []
  }
 ],
 "metadata": {
  "kernelspec": {
   "display_name": "Python 2",
   "language": "python",
   "name": "python2"
  },
  "language_info": {
   "codemirror_mode": {
    "name": "ipython",
    "version": 2
   },
   "file_extension": ".py",
   "mimetype": "text/x-python",
   "name": "python",
   "nbconvert_exporter": "python",
   "pygments_lexer": "ipython2",
   "version": "2.7.10"
  }
 },
 "nbformat": 4,
 "nbformat_minor": 2
}
