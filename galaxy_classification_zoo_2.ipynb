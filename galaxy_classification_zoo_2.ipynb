{
 "cells": [
  {
   "cell_type": "markdown",
   "metadata": {},
   "source": [
    "# Galaxy classification\n",
    "This is a ML code that performs galaxy classification using user-defined labels from the Galaxy-Zoo (http://zoo1.galaxyzoo.org/) project. \n",
    "\n",
    "The steps are the following: <br>\n",
    "1. Import libraries and sample\n",
    "2. Split sub-samples (training, validation, testing)\n",
    "3. Fit with various classifier and check performance\n",
    "4. Compare various classifiers in testing sample"
   ]
  },
  {
   "cell_type": "code",
   "execution_count": 1,
   "metadata": {},
   "outputs": [
    {
     "name": "stderr",
     "output_type": "stream",
     "text": [
      "/Library/Frameworks/Python.framework/Versions/3.6/lib/python3.6/importlib/_bootstrap.py:219: RuntimeWarning: compiletime version 3.5 of module 'tensorflow.python.framework.fast_tensor_util' does not match runtime version 3.6\n",
      "  return f(*args, **kwds)\n"
     ]
    }
   ],
   "source": [
    "# Importing Libraries\n",
    "import numpy as np\n",
    "import pandas as pd\n",
    "import tensorflow as tf\n",
    "import matplotlib.pyplot as plt\n",
    "from sklearn import datasets, utils, metrics\n",
    "from sklearn.svm import LinearSVC\n",
    "from sklearn.linear_model import LogisticRegression\n",
    "from sklearn.neural_network import MLPClassifier\n",
    "from sklearn.ensemble import RandomForestClassifier\n",
    "\n",
    "import warnings\n",
    "warnings.simplefilter('ignore')"
   ]
  },
  {
   "cell_type": "code",
   "execution_count": 2,
   "metadata": {},
   "outputs": [
    {
     "data": {
      "image/png": "[encoded data removed]",
      "text/plain": [
       "<Figure size 432x288 with 10 Axes>"
      ]
     },
     "metadata": {},
     "output_type": "display_data"
    }
   ],
   "source": [
    "# Here we are going to use astropy to read fits images and convert them into \n",
    "# similar format matrices\n",
    "# you can also use np.matrix.flatten to flatten a matrix into a single line\n",
    "import glob\n",
    "files = glob.glob(\"/Users/TB/Downloads/GALFITv2/*.npy\")\n",
    "galaxies = np.array([np.load(i) for i in files])\n",
    "labels = [file.split(\"_\")[0].replace('/Users/TB/Downloads/GALFITv2/','') for file in files]\n",
    "\n",
    "# Display some example images of galaxies\n",
    "images_and_labels = list(zip(galaxies, labels))\n",
    "for index, (image, label) in enumerate(images_and_labels[:10]):\n",
    "    plt.subplot(2, 5, index + 1)\n",
    "    plt.axis('off')\n",
    "    plt.imshow(image, cmap=plt.cm.gray_r, interpolation='nearest')\n",
    "    plt.title(label)\n",
    "\n",
    "# To apply a classifier on this data, we need to flatten the image, to\n",
    "# turn the data in a (samples, feature) matrix:\n",
    "n_samples = len(galaxies)\n",
    "data = galaxies.reshape((n_samples, -1))\n",
    "\n",
    "# Normalize values to maximum and setting low values to 0\n",
    "for i in range(len(data)):\n",
    "    data[i] = data[i] / max(data[i])\n",
    "\n",
    "# data[data < 0.001] = 0\n",
    "        \n",
    "# Shuffle the samples\n",
    "shuffled_indexes = np.arange(len(galaxies))\n",
    "np.random.shuffle(shuffled_indexes)\n",
    "\n",
    "data = data[shuffled_indexes]\n",
    "labels = list(np.array(labels)[shuffled_indexes])"
   ]
  },
  {
   "cell_type": "code",
   "execution_count": 3,
   "metadata": {},
   "outputs": [],
   "source": [
    "# Splitting in training, validation, and test samples\n",
    "data_train = data[:8 * n_samples // 10] # i.e. 80% training\n",
    "labels_train = labels[:8 * n_samples // 10]\n",
    "\n",
    "data_valid = data[8 * n_samples // 10:9 * n_samples // 10] # i.e. 10% validation (80->90%)\n",
    "labels_valid = labels[8 * n_samples // 10:9 * n_samples // 10]\n",
    "\n",
    "data_test = data[9 * n_samples // 10:] # i.e. 10% testing (90->100%)\n",
    "labels_test = labels[9 * n_samples // 10:]"
   ]
  },
  {
   "cell_type": "markdown",
   "metadata": {},
   "source": [
    "## 1) Using scikit-learn / SVM classifier\n",
    "We are going to test the performance of a classical Support Vector Machines classifier"
   ]
  },
  {
   "cell_type": "code",
   "execution_count": 4,
   "metadata": {},
   "outputs": [
    {
     "name": "stdout",
     "output_type": "stream",
     "text": [
      "Classification report for LinearSVC(C=1.0, class_weight=None, dual=True, fit_intercept=True,\n",
      "     intercept_scaling=1, loss='squared_hinge', max_iter=1000,\n",
      "     multi_class='ovr', penalty='l2', random_state=None, tol=0.0001,\n",
      "     verbose=0):\n",
      "             precision    recall  f1-score   support\n",
      "\n",
      "     ellipt       0.88      0.98      0.93       303\n",
      "     spiral       0.99      0.94      0.97       697\n",
      "\n",
      "avg / total       0.96      0.95      0.96      1000\n",
      "\n",
      "\n",
      "Confusion matrix:\n",
      "[[297   6]\n",
      " [ 39 658]]\n"
     ]
    }
   ],
   "source": [
    "# Classifier\n",
    "model_svc = LinearSVC()\n",
    "model_svc.fit(data_train, labels_train)\n",
    "\n",
    "# Comparisong with prediction\n",
    "predicted = model_svc.predict(data_valid)\n",
    "\n",
    "print(\"Classification report for %s:\\n%s\\n\"\n",
    "      % (model_svc, metrics.classification_report(labels_valid, predicted)))\n",
    "print(\"Confusion matrix:\\n%s\" % metrics.confusion_matrix(labels_valid, predicted))"
   ]
  },
  {
   "cell_type": "markdown",
   "metadata": {},
   "source": [
    "## 2) Using scikit-learn / LogisticRegression classifier"
   ]
  },
  {
   "cell_type": "code",
   "execution_count": 5,
   "metadata": {},
   "outputs": [
    {
     "name": "stdout",
     "output_type": "stream",
     "text": [
      "Classification report for LogisticRegression(C=1.0, class_weight=None, dual=False, fit_intercept=True,\n",
      "          intercept_scaling=1, max_iter=100, multi_class='ovr', n_jobs=1,\n",
      "          penalty='l2', random_state=None, solver='liblinear', tol=0.0001,\n",
      "          verbose=0, warm_start=False):\n",
      "             precision    recall  f1-score   support\n",
      "\n",
      "     ellipt       0.88      0.98      0.93       303\n",
      "     spiral       0.99      0.94      0.97       697\n",
      "\n",
      "avg / total       0.96      0.95      0.96      1000\n",
      "\n",
      "\n",
      "Confusion matrix:\n",
      "[[297   6]\n",
      " [ 39 658]]\n"
     ]
    }
   ],
   "source": [
    "# Classifier\n",
    "model_lrc = LogisticRegression()\n",
    "model_lrc.fit(data_train, labels_train)\n",
    "\n",
    "# Comparisong with prediction\n",
    "predicted = model_svc.predict(data_valid)\n",
    "\n",
    "print(\"Classification report for %s:\\n%s\\n\"\n",
    "      % (model_lrc, metrics.classification_report(labels_valid, predicted)))\n",
    "print(\"Confusion matrix:\\n%s\" % metrics.confusion_matrix(labels_valid, predicted))"
   ]
  },
  {
   "cell_type": "markdown",
   "metadata": {},
   "source": [
    "## 3) Using scikit-learn / Multilayer perceptron classifier\n",
    "We are going to use a simple Neural Network (Multilayer perceptron) classifier."
   ]
  },
  {
   "cell_type": "code",
   "execution_count": 6,
   "metadata": {},
   "outputs": [
    {
     "name": "stdout",
     "output_type": "stream",
     "text": [
      "Classification report for MLPClassifier(activation='relu', alpha=0.0001, batch_size='auto', beta_1=0.9,\n",
      "       beta_2=0.999, early_stopping=False, epsilon=1e-08,\n",
      "       hidden_layer_sizes=(100,), learning_rate='constant',\n",
      "       learning_rate_init=0.001, max_iter=200, momentum=0.9,\n",
      "       nesterovs_momentum=True, power_t=0.5, random_state=None,\n",
      "       shuffle=True, solver='adam', tol=0.0001, validation_fraction=0.1,\n",
      "       verbose=False, warm_start=False):\n",
      "             precision    recall  f1-score   support\n",
      "\n",
      "     ellipt       0.92      0.99      0.96       303\n",
      "     spiral       1.00      0.96      0.98       697\n",
      "\n",
      "avg / total       0.97      0.97      0.97      1000\n",
      "\n",
      "\n",
      "Confusion matrix:\n",
      "[[301   2]\n",
      " [ 26 671]]\n"
     ]
    }
   ],
   "source": [
    "# Classifier\n",
    "model_MLP = MLPClassifier()\n",
    "model_MLP.fit(data_train, labels_train)\n",
    "\n",
    "# Comparisong with prediction\n",
    "predicted = model_MLP.predict(data_valid)\n",
    "\n",
    "print(\"Classification report for %s:\\n%s\\n\"\n",
    "      % (model_MLP, metrics.classification_report(labels_valid, predicted)))\n",
    "print(\"Confusion matrix:\\n%s\" % metrics.confusion_matrix(labels_valid, predicted))"
   ]
  },
  {
   "cell_type": "markdown",
   "metadata": {},
   "source": [
    "## 4) Using scikit learn / RandomForests\n",
    "We are using a a scikit-learn bagging classifier."
   ]
  },
  {
   "cell_type": "code",
   "execution_count": 7,
   "metadata": {},
   "outputs": [
    {
     "name": "stdout",
     "output_type": "stream",
     "text": [
      "Classification report for RandomForestClassifier(bootstrap=True, class_weight=None, criterion='gini',\n",
      "            max_depth=None, max_features='auto', max_leaf_nodes=None,\n",
      "            min_impurity_decrease=0.0, min_impurity_split=None,\n",
      "            min_samples_leaf=1, min_samples_split=2,\n",
      "            min_weight_fraction_leaf=0.0, n_estimators=10, n_jobs=1,\n",
      "            oob_score=False, random_state=None, verbose=0,\n",
      "            warm_start=False):\n",
      "             precision    recall  f1-score   support\n",
      "\n",
      "     ellipt       0.98      0.99      0.98       303\n",
      "     spiral       1.00      0.99      0.99       697\n",
      "\n",
      "avg / total       0.99      0.99      0.99      1000\n",
      "\n",
      "\n",
      "Confusion matrix:\n",
      "[[300   3]\n",
      " [  7 690]]\n"
     ]
    }
   ],
   "source": [
    "# Classifier\n",
    "model_RF = RandomForestClassifier()\n",
    "model_RF.fit(data_train, labels_train)\n",
    "\n",
    "# Comparisong with prediction\n",
    "predicted = model_RF.predict(data_valid)\n",
    "\n",
    "print(\"Classification report for %s:\\n%s\\n\"\n",
    "      % (model_RF, metrics.classification_report(labels_valid, predicted)))\n",
    "print(\"Confusion matrix:\\n%s\" % metrics.confusion_matrix(labels_valid, predicted))"
   ]
  },
  {
   "cell_type": "markdown",
   "metadata": {},
   "source": [
    "## 5) Using Keras simple Neural Network classifier\n",
    "We are using a simple multilayer perceptron classifier."
   ]
  },
  {
   "cell_type": "code",
   "execution_count": 20,
   "metadata": {},
   "outputs": [],
   "source": [
    "from keras.models import Sequential\n",
    "from keras.layers import Dense\n",
    "from keras.utils import np_utils\n",
    "from keras import regularizers\n",
    "from keras import optimizers\n",
    "from keras.layers import Dropout\n",
    "from sklearn.preprocessing import OneHotEncoder\n",
    "from sklearn.preprocessing import LabelEncoder"
   ]
  },
  {
   "cell_type": "code",
   "execution_count": 30,
   "metadata": {},
   "outputs": [],
   "source": [
    "# Normalizing data to 0-1 range\n",
    "# data = data / np.max(data[:])\n",
    "\n",
    "num_pixels = data_train.shape[1] \n",
    "\n",
    "# It is good practice to use a one hot encoding \n",
    "# of the class values (ellip, spiral), to tranform\n",
    "# the vector of class integers into a binary matrix.\n",
    "int_enc = LabelEncoder()\n",
    "labels_train_int = int_enc.fit_transform(labels_train)\n",
    "labels_valid_int = int_enc.fit_transform(labels_valid)\n",
    "labels_test_int = int_enc.fit_transform(labels_test)\n",
    "\n",
    "oh_enc = OneHotEncoder(sparse=False)\n",
    "labels_train_int = labels_train_int.reshape(len(labels_train_int), 1)\n",
    "labels_train_ohe = oh_enc.fit_transform(labels_train_int)\n",
    "labels_valid_int = labels_valid_int.reshape(len(labels_valid_int), 1)\n",
    "labels_valid_ohe = oh_enc.fit_transform(labels_valid_int)\n",
    "labels_test_int = labels_test_int.reshape(len(labels_test_int), 1)\n",
    "labels_test_ohe = oh_enc.fit_transform(labels_test_int)\n",
    "\n",
    "# uniques, labels_valid = np.unique(labels_valid, return_inverse=True)\n",
    "# labels_train_cat = np_utils.to_categorical(labels_train)\n",
    "# labels_valid_cat = np_utils.to_categorical(labels_valid)\n",
    "num_classes = labels_valid_ohe.shape[1]"
   ]
  },
  {
   "cell_type": "code",
   "execution_count": 35,
   "metadata": {},
   "outputs": [],
   "source": [
    "# Define the model\n",
    "def baseline_model():\n",
    "    # create model\n",
    "    sgd = optimizers.SGD(lr=0.1)\n",
    "    model_Ker = Sequential()\n",
    "#     model_Ker.add(Dropout(0.2, input_shape=(num_pixels,)))\n",
    "    model_Ker.add(Dense(num_pixels // 3, input_dim=num_pixels, kernel_initializer='normal',activation='relu'))\n",
    "#     model_Ker.add(Dense(num_pixels // 5, input_dim=num_pixels, kernel_initializer='normal',activation='relu'))\n",
    "                                          #kernel_regularizer=regularizers.l1(0.1)))\n",
    "    model_Ker.add(Dropout(0.2))\n",
    "    model_Ker.add(Dense(num_classes, kernel_initializer='normal', activation='sigmoid'))\n",
    "    # Compile model\n",
    "    model_Ker.compile(loss='mean_squared_error', optimizer=sgd, metrics=['accuracy'])\n",
    "    return model_Ker\n",
    "\n",
    "# Build the model\n",
    "model_Ker = baseline_model()"
   ]
  },
  {
   "cell_type": "code",
   "execution_count": 36,
   "metadata": {},
   "outputs": [
    {
     "name": "stdout",
     "output_type": "stream",
     "text": [
      "Train on 8000 samples, validate on 1000 samples\n",
      "Epoch 1/15\n",
      " - 35s - loss: 0.2215 - acc: 0.6804 - val_loss: 0.1877 - val_acc: 0.6970\n",
      "Epoch 2/15\n",
      " - 35s - loss: 0.1908 - acc: 0.7179 - val_loss: 0.1637 - val_acc: 0.8870\n",
      "Epoch 3/15\n",
      " - 33s - loss: 0.1696 - acc: 0.7669 - val_loss: 0.1857 - val_acc: 0.6970\n",
      "Epoch 4/15\n",
      " - 32s - loss: 0.1552 - acc: 0.8039 - val_loss: 0.1364 - val_acc: 0.7160\n",
      "Epoch 5/15\n",
      " - 32s - loss: 0.1376 - acc: 0.8285 - val_loss: 0.1764 - val_acc: 0.6970\n",
      "Epoch 6/15\n",
      " - 32s - loss: 0.1399 - acc: 0.8176 - val_loss: 0.0949 - val_acc: 0.9320\n",
      "Epoch 7/15\n",
      " - 33s - loss: 0.1080 - acc: 0.8889 - val_loss: 0.0923 - val_acc: 0.9720\n",
      "Epoch 8/15\n",
      " - 32s - loss: 0.1058 - acc: 0.8701 - val_loss: 0.1012 - val_acc: 0.9420\n",
      "Epoch 9/15\n",
      " - 32s - loss: 0.1099 - acc: 0.8491 - val_loss: 0.0729 - val_acc: 0.9840\n",
      "Epoch 10/15\n",
      " - 34s - loss: 0.0874 - acc: 0.9141 - val_loss: 0.0817 - val_acc: 0.9610\n",
      "Epoch 11/15\n",
      " - 35s - loss: 0.0796 - acc: 0.9337 - val_loss: 0.0642 - val_acc: 0.9850\n",
      "Epoch 12/15\n",
      " - 33s - loss: 0.0703 - acc: 0.9625 - val_loss: 0.0601 - val_acc: 0.9850\n",
      "Epoch 13/15\n",
      " - 34s - loss: 0.0658 - acc: 0.9676 - val_loss: 0.0553 - val_acc: 0.9860\n",
      "Epoch 14/15\n",
      " - 65s - loss: 0.0605 - acc: 0.9749 - val_loss: 0.0541 - val_acc: 0.9860\n",
      "Epoch 15/15\n",
      " - 42s - loss: 0.0578 - acc: 0.9793 - val_loss: 0.0500 - val_acc: 0.9910\n"
     ]
    }
   ],
   "source": [
    "# Fit the model\n",
    "history_fit = model_Ker.fit(data_train, labels_train_ohe, validation_data=(data_valid, labels_valid_ohe), \n",
    "                                            epochs=15, batch_size=500, verbose=2)\n",
    "\n",
    "# Comparisong with prediction\n",
    "predicted = model_Ker.predict(data_valid)"
   ]
  },
  {
   "cell_type": "code",
   "execution_count": 37,
   "metadata": {},
   "outputs": [
    {
     "name": "stdout",
     "output_type": "stream",
     "text": [
      "Classification report for <keras.engine.sequential.Sequential object at 0x149475390>:\n",
      "             precision    recall  f1-score   support\n",
      "\n",
      "     ellipt       0.98      0.99      0.99       303\n",
      "     spiral       1.00      0.99      0.99       697\n",
      "\n",
      "avg / total       0.99      0.99      0.99      1000\n",
      "\n",
      "\n",
      "Confusion matrix:\n",
      "[[301   2]\n",
      " [  7 690]]\n"
     ]
    }
   ],
   "source": [
    "# Reverse one hot encoding\n",
    "pred = int_enc.inverse_transform(predicted.argmax(1))\n",
    "\n",
    "print(\"Classification report for %s:\\n%s\\n\"\n",
    "      % (model_Ker, metrics.classification_report(labels_valid, pred)))\n",
    "print(\"Confusion matrix:\\n%s\" % metrics.confusion_matrix(labels_valid, pred))"
   ]
  },
  {
   "cell_type": "code",
   "execution_count": 38,
   "metadata": {},
   "outputs": [
    {
     "data": {
      "image/png": "[encoded data removed]",
      "text/plain": [
       "<Figure size 432x288 with 1 Axes>"
      ]
     },
     "metadata": {},
     "output_type": "display_data"
    }
   ],
   "source": [
    "plt.plot(history_fit.history['loss'])\n",
    "plt.plot(history_fit.history['val_loss'])\n",
    "plt.title('model train vs validation loss')\n",
    "plt.ylabel('loss')\n",
    "plt.xlabel('epoch')\n",
    "plt.legend(['train', 'validation'], loc='upper right')\n",
    "plt.show()"
   ]
  },
  {
   "cell_type": "markdown",
   "metadata": {},
   "source": [
    "Trials to find the optimal setup for the model:\n",
    "- 10 epochs, batch=500, 1 hidden layer, (relu, sigmoid) activations => reached precision 92, recall 91 \n",
    "- 10 epochs, batch=500, 1 hidden layer, dropout=0.2 at the initial layer, (relu, sigmoid) activations => reached precision 90, recall 84 \n",
    "- 10 epochs, batch=500, 1 hidden layer, dropout=0.2 at the hidden layer, (relu, sigmoid) activations => reached precision 97, recall 97 \n",
    "- 15 epochs, batch=500, 1 hidden layer, dropout=0.2 at the hidden layer, (relu, sigmoid) activations => reached precision 99, recall 99 \n",
    "\n",
    "(Larger batch size and dropout make the model significantly faster)"
   ]
  },
  {
   "cell_type": "markdown",
   "metadata": {},
   "source": [
    "## Final check \n",
    "Here we are using the test sample for a final check of the various algorithms used above. We check if their performance is as good as it is reported in the validation process."
   ]
  },
  {
   "cell_type": "code",
   "execution_count": 41,
   "metadata": {},
   "outputs": [
    {
     "name": "stdout",
     "output_type": "stream",
     "text": [
      "====================================================================================\n",
      "Classification report for LinearSVC(C=1.0, class_weight=None, dual=True, fit_intercept=True,\n",
      "     intercept_scaling=1, loss='squared_hinge', max_iter=1000,\n",
      "     multi_class='ovr', penalty='l2', random_state=None, tol=0.0001,\n",
      "     verbose=0):\n",
      "             precision    recall  f1-score   support\n",
      "\n",
      "     ellipt       0.86      0.99      0.92       280\n",
      "     spiral       0.99      0.94      0.96       720\n",
      "\n",
      "avg / total       0.96      0.95      0.95      1000\n",
      "\n",
      "\n",
      "Confusion matrix:\n",
      "[[276   4]\n",
      " [ 46 674]] \n",
      "\n",
      "====================================================================================\n",
      "Classification report for LogisticRegression(C=1.0, class_weight=None, dual=False, fit_intercept=True,\n",
      "          intercept_scaling=1, max_iter=100, multi_class='ovr', n_jobs=1,\n",
      "          penalty='l2', random_state=None, solver='liblinear', tol=0.0001,\n",
      "          verbose=0, warm_start=False):\n",
      "             precision    recall  f1-score   support\n",
      "\n",
      "     ellipt       0.90      0.97      0.94       280\n",
      "     spiral       0.99      0.96      0.97       720\n",
      "\n",
      "avg / total       0.96      0.96      0.96      1000\n",
      "\n",
      "\n",
      "Confusion matrix:\n",
      "[[272   8]\n",
      " [ 29 691]] \n",
      "\n",
      "====================================================================================\n",
      "Classification report for MLPClassifier(activation='relu', alpha=0.0001, batch_size='auto', beta_1=0.9,\n",
      "       beta_2=0.999, early_stopping=False, epsilon=1e-08,\n",
      "       hidden_layer_sizes=(100,), learning_rate='constant',\n",
      "       learning_rate_init=0.001, max_iter=200, momentum=0.9,\n",
      "       nesterovs_momentum=True, power_t=0.5, random_state=None,\n",
      "       shuffle=True, solver='adam', tol=0.0001, validation_fraction=0.1,\n",
      "       verbose=False, warm_start=False):\n",
      "             precision    recall  f1-score   support\n",
      "\n",
      "     ellipt       0.93      1.00      0.96       280\n",
      "     spiral       1.00      0.97      0.98       720\n",
      "\n",
      "avg / total       0.98      0.98      0.98      1000\n",
      "\n",
      "\n",
      "Confusion matrix:\n",
      "[[279   1]\n",
      " [ 22 698]] \n",
      "\n",
      "====================================================================================\n",
      "Classification report for RandomForestClassifier(bootstrap=True, class_weight=None, criterion='gini',\n",
      "            max_depth=None, max_features='auto', max_leaf_nodes=None,\n",
      "            min_impurity_decrease=0.0, min_impurity_split=None,\n",
      "            min_samples_leaf=1, min_samples_split=2,\n",
      "            min_weight_fraction_leaf=0.0, n_estimators=10, n_jobs=1,\n",
      "            oob_score=False, random_state=None, verbose=0,\n",
      "            warm_start=False):\n",
      "             precision    recall  f1-score   support\n",
      "\n",
      "     ellipt       0.97      0.99      0.98       280\n",
      "     spiral       1.00      0.99      0.99       720\n",
      "\n",
      "avg / total       0.99      0.99      0.99      1000\n",
      "\n",
      "\n",
      "Confusion matrix:\n",
      "[[278   2]\n",
      " [ 10 710]] \n",
      "\n",
      "====================================================================================\n",
      "Classification report for <keras.engine.sequential.Sequential object at 0x149475390>:\n",
      "             precision    recall  f1-score   support\n",
      "\n",
      "     ellipt       0.97      1.00      0.98       280\n",
      "     spiral       1.00      0.99      0.99       720\n",
      "\n",
      "avg / total       0.99      0.99      0.99      1000\n",
      "\n",
      "\n",
      "Confusion matrix:\n",
      "[[279   1]\n",
      " [  9 711]] \n",
      "\n",
      "====================================================================================\n"
     ]
    }
   ],
   "source": [
    "print(\"====================================================================================\")\n",
    "# Predictions for SVM\n",
    "predicted = model_svc.predict(data_test)\n",
    "print(\"Classification report for %s:\\n%s\\n\"\n",
    "      % (model_svc, metrics.classification_report(labels_test, predicted)))\n",
    "print(\"Confusion matrix:\\n%s \\n\" % metrics.confusion_matrix(labels_test, predicted))\n",
    "print(\"====================================================================================\")\n",
    "\n",
    "# Predictions for LogisticRegression\n",
    "predicted = model_lrc.predict(data_test)\n",
    "print(\"Classification report for %s:\\n%s\\n\"\n",
    "      % (model_lrc, metrics.classification_report(labels_test, predicted)))\n",
    "print(\"Confusion matrix:\\n%s \\n\" % metrics.confusion_matrix(labels_test, predicted))\n",
    "print(\"====================================================================================\")\n",
    "\n",
    "# Predictions for MLP\n",
    "predicted = model_MLP.predict(data_test)\n",
    "print(\"Classification report for %s:\\n%s\\n\"\n",
    "      % (model_MLP, metrics.classification_report(labels_test, predicted)))\n",
    "print(\"Confusion matrix:\\n%s \\n\" % metrics.confusion_matrix(labels_test, predicted))\n",
    "print(\"====================================================================================\")\n",
    "\n",
    "# Predictions for RandomForests\n",
    "predicted = model_RF.predict(data_test)\n",
    "print(\"Classification report for %s:\\n%s\\n\"\n",
    "      % (model_RF, metrics.classification_report(labels_test, predicted)))\n",
    "print(\"Confusion matrix:\\n%s \\n\" % metrics.confusion_matrix(labels_test, predicted))\n",
    "print(\"====================================================================================\")\n",
    "\n",
    "# Predictions for Keras Neural Network\n",
    "predicted = model_Ker.predict(data_test)\n",
    "pred = int_enc.inverse_transform(predicted.argmax(1))\n",
    "print(\"Classification report for %s:\\n%s\\n\"\n",
    "      % (model_Ker, metrics.classification_report(labels_test, pred)))\n",
    "print(\"Confusion matrix:\\n%s \\n\" % metrics.confusion_matrix(labels_test, pred))\n",
    "print(\"====================================================================================\")"
   ]
  },
  {
   "cell_type": "markdown",
   "metadata": {},
   "source": [
    "# Saving the trained models\n",
    "Using pickle we can save the trained models to use them in a later time w/o the need to re-train them."
   ]
  },
  {
   "cell_type": "code",
   "execution_count": 42,
   "metadata": {},
   "outputs": [],
   "source": [
    "import pickle\n",
    "\n",
    "# saving the models to disk\n",
    "model_labels = ['SVC','LogReg','MLP','RandFor','KerNN']\n",
    "models = ['model_SVC','model_LR','model_MLP','model_RF','model_Ker']\n",
    "\n",
    "for modstr,model in zip(model_labels,models):\n",
    "    pickle.dump(model, open('galaxy_classification_zoo_'+modstr+'.sav', 'wb'))"
   ]
  },
  {
   "cell_type": "code",
   "execution_count": 43,
   "metadata": {},
   "outputs": [],
   "source": [
    "# To load the models at a later time:\n",
    "# loaded_model = pickle.load(open(filename, 'rb'))\n",
    "# result = loaded_model.score(X_test, Y_test)\n",
    "# print(result)"
   ]
  },
  {
   "cell_type": "code",
   "execution_count": null,
   "metadata": {},
   "outputs": [],
   "source": []
  }
 ],
 "metadata": {
  "kernelspec": {
   "display_name": "Python 3",
   "language": "python",
   "name": "python3"
  },
  "language_info": {
   "codemirror_mode": {
    "name": "ipython",
    "version": 3
   },
   "file_extension": ".py",
   "mimetype": "text/x-python",
   "name": "python",
   "nbconvert_exporter": "python",
   "pygments_lexer": "ipython3",
   "version": "3.6.5"
  }
 },
 "nbformat": 4,
 "nbformat_minor": 2
}
