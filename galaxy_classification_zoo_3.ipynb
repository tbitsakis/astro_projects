{
 "cells": [
  {
   "cell_type": "markdown",
   "metadata": {},
   "source": [
    "# Galaxy classification (Theo)\n",
    "This is a ML code that performs galaxy classification using user-defined labels from the Galaxy-Zoo (http://zoo1.galaxyzoo.org/) project. \n",
    "\n",
    "The steps are the following: <br>\n",
    "1. Import libraries and sample\n",
    "2. Split sub-samples (training, validation, testing)\n",
    "3. Fit with various classifier and check performance\n",
    "4. Compare various classifiers in testing sample"
   ]
  },
  {
   "cell_type": "code",
   "execution_count": 1,
   "metadata": {},
   "outputs": [
    {
     "name": "stderr",
     "output_type": "stream",
     "text": [
      "/Library/Frameworks/Python.framework/Versions/3.6/lib/python3.6/importlib/_bootstrap.py:219: RuntimeWarning: compiletime version 3.5 of module 'tensorflow.python.framework.fast_tensor_util' does not match runtime version 3.6\n",
      "  return f(*args, **kwds)\n"
     ]
    }
   ],
   "source": [
    "# Importing Libraries\n",
    "import numpy as np\n",
    "import pandas as pd\n",
    "import tensorflow as tf\n",
    "import matplotlib.pyplot as plt\n",
    "from sklearn import datasets, utils, metrics\n",
    "from sklearn.svm import LinearSVC\n",
    "from sklearn.linear_model import LogisticRegression\n",
    "from sklearn.neural_network import MLPClassifier\n",
    "from sklearn.ensemble import RandomForestClassifier\n",
    "\n",
    "import warnings\n",
    "warnings.simplefilter('ignore')"
   ]
  },
  {
   "cell_type": "code",
   "execution_count": 3,
   "metadata": {},
   "outputs": [
    {
     "data": {
      "image/png": "[encoded data removed]",
      "text/plain": [
       "<Figure size 432x288 with 10 Axes>"
      ]
     },
     "metadata": {},
     "output_type": "display_data"
    }
   ],
   "source": [
    "# Here we are going to use astropy to read fits images and convert them into \n",
    "# similar format matrices\n",
    "# you can also use np.matrix.flatten to flatten a matrix into a single line\n",
    "import glob\n",
    "files = glob.glob(\"/Users/TB/Downloads/GALFITv3/*.npy\")\n",
    "galaxies = np.array([np.load(i) for i in files])\n",
    "labels = [file.split(\"_\")[0].replace('/Users/TB/Downloads/GALFITv3/','') for file in files]\n",
    "\n",
    "# Display some example images of galaxies\n",
    "images_and_labels = list(zip(galaxies, labels))\n",
    "for index, (image, label) in enumerate(images_and_labels[:10]):\n",
    "    plt.subplot(2, 5, index + 1)\n",
    "    plt.axis('off')\n",
    "    plt.imshow(image, cmap=plt.cm.gray_r, interpolation='nearest')\n",
    "    plt.title(label)\n",
    "\n",
    "# To apply a classifier on this data, we need to flatten the image, to\n",
    "# turn the data in a (samples, feature) matrix:\n",
    "n_samples = len(galaxies)\n",
    "data = galaxies.reshape((n_samples, -1))\n",
    "\n",
    "# Normalize values to maximum and setting low values to 0\n",
    "for i in range(len(data)):\n",
    "    data[i] = data[i] / max(data[i])\n",
    "\n",
    "# data[data < 0.001] = 0\n",
    "        \n",
    "# Shuffle the samples\n",
    "shuffled_indexes = np.arange(len(galaxies))\n",
    "np.random.shuffle(shuffled_indexes)\n",
    "\n",
    "data = data[shuffled_indexes]\n",
    "labels = list(np.array(labels)[shuffled_indexes])"
   ]
  },
  {
   "cell_type": "code",
   "execution_count": 4,
   "metadata": {},
   "outputs": [],
   "source": [
    "# Splitting in training, validation, and test samples\n",
    "data_train = data[:8 * n_samples // 10] # i.e. 80% training\n",
    "labels_train = labels[:8 * n_samples // 10]\n",
    "\n",
    "data_valid = data[8 * n_samples // 10:9 * n_samples // 10] # i.e. 10% validation (80->90%)\n",
    "labels_valid = labels[8 * n_samples // 10:9 * n_samples // 10]\n",
    "\n",
    "data_test = data[9 * n_samples // 10:] # i.e. 10% testing (90->100%)\n",
    "labels_test = labels[9 * n_samples // 10:]"
   ]
  },
  {
   "cell_type": "markdown",
   "metadata": {},
   "source": [
    "## 1) Using scikit-learn / SVM classifier\n",
    "We are going to test the performance of a classical Support Vector Machines classifier"
   ]
  },
  {
   "cell_type": "code",
   "execution_count": 5,
   "metadata": {},
   "outputs": [
    {
     "name": "stdout",
     "output_type": "stream",
     "text": [
      "Classification report for LinearSVC(C=1.0, class_weight=None, dual=True, fit_intercept=True,\n",
      "     intercept_scaling=1, loss='squared_hinge', max_iter=1000,\n",
      "     multi_class='ovr', penalty='l2', random_state=None, tol=0.0001,\n",
      "     verbose=0):\n",
      "             precision    recall  f1-score   support\n",
      "\n",
      "     ellipt       0.90      0.99      0.94       308\n",
      "     spiral       0.99      0.95      0.97       692\n",
      "\n",
      "avg / total       0.96      0.96      0.96      1000\n",
      "\n",
      "\n",
      "Confusion matrix:\n",
      "[[304   4]\n",
      " [ 34 658]]\n"
     ]
    }
   ],
   "source": [
    "# Classifier\n",
    "model_svc = LinearSVC()\n",
    "model_svc.fit(data_train, labels_train)\n",
    "\n",
    "# Comparisong with prediction\n",
    "predicted = model_svc.predict(data_valid)\n",
    "\n",
    "print(\"Classification report for %s:\\n%s\\n\"\n",
    "      % (model_svc, metrics.classification_report(labels_valid, predicted)))\n",
    "print(\"Confusion matrix:\\n%s\" % metrics.confusion_matrix(labels_valid, predicted))"
   ]
  },
  {
   "cell_type": "markdown",
   "metadata": {},
   "source": [
    "## 2) Using scikit-learn / LogisticRegression classifier"
   ]
  },
  {
   "cell_type": "code",
   "execution_count": 6,
   "metadata": {},
   "outputs": [
    {
     "name": "stdout",
     "output_type": "stream",
     "text": [
      "Classification report for LogisticRegression(C=1.0, class_weight=None, dual=False, fit_intercept=True,\n",
      "          intercept_scaling=1, max_iter=100, multi_class='ovr', n_jobs=1,\n",
      "          penalty='l2', random_state=None, solver='liblinear', tol=0.0001,\n",
      "          verbose=0, warm_start=False):\n",
      "             precision    recall  f1-score   support\n",
      "\n",
      "     ellipt       0.90      0.99      0.94       308\n",
      "     spiral       0.99      0.95      0.97       692\n",
      "\n",
      "avg / total       0.96      0.96      0.96      1000\n",
      "\n",
      "\n",
      "Confusion matrix:\n",
      "[[304   4]\n",
      " [ 34 658]]\n"
     ]
    }
   ],
   "source": [
    "# Classifier\n",
    "model_lrc = LogisticRegression()\n",
    "model_lrc.fit(data_train, labels_train)\n",
    "\n",
    "# Comparisong with prediction\n",
    "predicted = model_svc.predict(data_valid)\n",
    "\n",
    "print(\"Classification report for %s:\\n%s\\n\"\n",
    "      % (model_lrc, metrics.classification_report(labels_valid, predicted)))\n",
    "print(\"Confusion matrix:\\n%s\" % metrics.confusion_matrix(labels_valid, predicted))"
   ]
  },
  {
   "cell_type": "markdown",
   "metadata": {},
   "source": [
    "## 3) Using scikit-learn / Multilayer perceptron classifier\n",
    "We are going to use a simple Neural Network (Multilayer perceptron) classifier."
   ]
  },
  {
   "cell_type": "code",
   "execution_count": 7,
   "metadata": {},
   "outputs": [
    {
     "name": "stdout",
     "output_type": "stream",
     "text": [
      "Classification report for MLPClassifier(activation='relu', alpha=0.0001, batch_size='auto', beta_1=0.9,\n",
      "       beta_2=0.999, early_stopping=False, epsilon=1e-08,\n",
      "       hidden_layer_sizes=(100,), learning_rate='constant',\n",
      "       learning_rate_init=0.001, max_iter=200, momentum=0.9,\n",
      "       nesterovs_momentum=True, power_t=0.5, random_state=None,\n",
      "       shuffle=True, solver='adam', tol=0.0001, validation_fraction=0.1,\n",
      "       verbose=False, warm_start=False):\n",
      "             precision    recall  f1-score   support\n",
      "\n",
      "     ellipt       0.96      0.99      0.98       308\n",
      "     spiral       1.00      0.98      0.99       692\n",
      "\n",
      "avg / total       0.99      0.98      0.99      1000\n",
      "\n",
      "\n",
      "Confusion matrix:\n",
      "[[305   3]\n",
      " [ 12 680]]\n"
     ]
    }
   ],
   "source": [
    "# Classifier\n",
    "model_MLP = MLPClassifier()\n",
    "model_MLP.fit(data_train, labels_train)\n",
    "\n",
    "# Comparisong with prediction\n",
    "predicted = model_MLP.predict(data_valid)\n",
    "\n",
    "print(\"Classification report for %s:\\n%s\\n\"\n",
    "      % (model_MLP, metrics.classification_report(labels_valid, predicted)))\n",
    "print(\"Confusion matrix:\\n%s\" % metrics.confusion_matrix(labels_valid, predicted))"
   ]
  },
  {
   "cell_type": "markdown",
   "metadata": {},
   "source": [
    "## 4) Using scikit learn / RandomForests\n",
    "We are using a a scikit-learn bagging classifier."
   ]
  },
  {
   "cell_type": "code",
   "execution_count": 8,
   "metadata": {},
   "outputs": [
    {
     "name": "stdout",
     "output_type": "stream",
     "text": [
      "Classification report for RandomForestClassifier(bootstrap=True, class_weight=None, criterion='gini',\n",
      "            max_depth=None, max_features='auto', max_leaf_nodes=None,\n",
      "            min_impurity_decrease=0.0, min_impurity_split=None,\n",
      "            min_samples_leaf=1, min_samples_split=2,\n",
      "            min_weight_fraction_leaf=0.0, n_estimators=10, n_jobs=1,\n",
      "            oob_score=False, random_state=None, verbose=0,\n",
      "            warm_start=False):\n",
      "             precision    recall  f1-score   support\n",
      "\n",
      "     ellipt       0.97      0.99      0.98       308\n",
      "     spiral       0.99      0.99      0.99       692\n",
      "\n",
      "avg / total       0.99      0.99      0.99      1000\n",
      "\n",
      "\n",
      "Confusion matrix:\n",
      "[[304   4]\n",
      " [  9 683]]\n"
     ]
    }
   ],
   "source": [
    "# Classifier\n",
    "model_RF = RandomForestClassifier()\n",
    "model_RF.fit(data_train, labels_train)\n",
    "\n",
    "# Comparisong with prediction\n",
    "predicted = model_RF.predict(data_valid)\n",
    "\n",
    "print(\"Classification report for %s:\\n%s\\n\"\n",
    "      % (model_RF, metrics.classification_report(labels_valid, predicted)))\n",
    "print(\"Confusion matrix:\\n%s\" % metrics.confusion_matrix(labels_valid, predicted))"
   ]
  },
  {
   "cell_type": "markdown",
   "metadata": {},
   "source": [
    "## 5) Using Keras simple Neural Network classifier\n",
    "We are using a simple multilayer perceptron classifier."
   ]
  },
  {
   "cell_type": "code",
   "execution_count": 9,
   "metadata": {},
   "outputs": [
    {
     "name": "stderr",
     "output_type": "stream",
     "text": [
      "Using TensorFlow backend.\n"
     ]
    }
   ],
   "source": [
    "from keras.models import Sequential\n",
    "from keras.layers import Dense\n",
    "from keras.utils import np_utils\n",
    "from keras import regularizers\n",
    "from keras import optimizers\n",
    "from keras.layers import Dropout\n",
    "from sklearn.preprocessing import OneHotEncoder\n",
    "from sklearn.preprocessing import LabelEncoder"
   ]
  },
  {
   "cell_type": "code",
   "execution_count": 10,
   "metadata": {},
   "outputs": [],
   "source": [
    "# Normalizing data to 0-1 range\n",
    "# data = data / np.max(data[:])\n",
    "\n",
    "num_pixels = data_train.shape[1] \n",
    "\n",
    "# It is good practice to use a one hot encoding \n",
    "# of the class values (ellip, spiral), to tranform\n",
    "# the vector of class integers into a binary matrix.\n",
    "int_enc = LabelEncoder()\n",
    "labels_train_int = int_enc.fit_transform(labels_train)\n",
    "labels_valid_int = int_enc.fit_transform(labels_valid)\n",
    "labels_test_int = int_enc.fit_transform(labels_test)\n",
    "\n",
    "oh_enc = OneHotEncoder(sparse=False)\n",
    "labels_train_int = labels_train_int.reshape(len(labels_train_int), 1)\n",
    "labels_train_ohe = oh_enc.fit_transform(labels_train_int)\n",
    "labels_valid_int = labels_valid_int.reshape(len(labels_valid_int), 1)\n",
    "labels_valid_ohe = oh_enc.fit_transform(labels_valid_int)\n",
    "labels_test_int = labels_test_int.reshape(len(labels_test_int), 1)\n",
    "labels_test_ohe = oh_enc.fit_transform(labels_test_int)\n",
    "\n",
    "# uniques, labels_valid = np.unique(labels_valid, return_inverse=True)\n",
    "# labels_train_cat = np_utils.to_categorical(labels_train)\n",
    "# labels_valid_cat = np_utils.to_categorical(labels_valid)\n",
    "num_classes = labels_valid_ohe.shape[1]"
   ]
  },
  {
   "cell_type": "code",
   "execution_count": 11,
   "metadata": {},
   "outputs": [],
   "source": [
    "# Define the model\n",
    "def baseline_model():\n",
    "    # create model\n",
    "    sgd = optimizers.SGD(lr=0.1)\n",
    "    model_Ker = Sequential()\n",
    "#     model_Ker.add(Dropout(0.2, input_shape=(num_pixels,)))\n",
    "    model_Ker.add(Dense(num_pixels // 3, input_dim=num_pixels, kernel_initializer='normal',activation='relu'))\n",
    "#     model_Ker.add(Dense(num_pixels // 5, input_dim=num_pixels, kernel_initializer='normal',activation='relu'))\n",
    "                                          #kernel_regularizer=regularizers.l1(0.1)))\n",
    "    model_Ker.add(Dropout(0.2))\n",
    "    model_Ker.add(Dense(num_classes, kernel_initializer='normal', activation='sigmoid'))\n",
    "    # Compile model\n",
    "    model_Ker.compile(loss='mean_squared_error', optimizer=sgd, metrics=['accuracy'])\n",
    "    return model_Ker\n",
    "\n",
    "# Build the model\n",
    "model_Ker = baseline_model()"
   ]
  },
  {
   "cell_type": "code",
   "execution_count": 12,
   "metadata": {},
   "outputs": [
    {
     "name": "stdout",
     "output_type": "stream",
     "text": [
      "Train on 8000 samples, validate on 1000 samples\n",
      "Epoch 1/17\n",
      " - 33s - loss: 0.2196 - acc: 0.6897 - val_loss: 0.2149 - val_acc: 0.6920\n",
      "Epoch 2/17\n",
      " - 30s - loss: 0.1868 - acc: 0.7180 - val_loss: 0.1658 - val_acc: 0.9010\n",
      "Epoch 3/17\n",
      " - 30s - loss: 0.1712 - acc: 0.7734 - val_loss: 0.1766 - val_acc: 0.6920\n",
      "Epoch 4/17\n",
      " - 34s - loss: 0.1568 - acc: 0.7908 - val_loss: 0.1353 - val_acc: 0.9530\n",
      "Epoch 5/17\n",
      " - 31s - loss: 0.1546 - acc: 0.7925 - val_loss: 0.1076 - val_acc: 0.8380\n",
      "Epoch 6/17\n",
      " - 30s - loss: 0.1290 - acc: 0.8520 - val_loss: 0.1132 - val_acc: 0.9550\n",
      "Epoch 7/17\n",
      " - 31s - loss: 0.1263 - acc: 0.8587 - val_loss: 0.1223 - val_acc: 0.9380\n",
      "Epoch 8/17\n",
      " - 31s - loss: 0.1136 - acc: 0.9176 - val_loss: 0.0948 - val_acc: 0.9860\n",
      "Epoch 9/17\n",
      " - 32s - loss: 0.1021 - acc: 0.9391 - val_loss: 0.0786 - val_acc: 0.9690\n",
      "Epoch 10/17\n",
      " - 31s - loss: 0.0886 - acc: 0.9500 - val_loss: 0.1042 - val_acc: 0.7890\n",
      "Epoch 11/17\n",
      " - 31s - loss: 0.0854 - acc: 0.9089 - val_loss: 0.0673 - val_acc: 0.9670\n",
      "Epoch 12/17\n",
      " - 31s - loss: 0.0696 - acc: 0.9626 - val_loss: 0.0606 - val_acc: 0.9830\n",
      "Epoch 13/17\n",
      " - 31s - loss: 0.0712 - acc: 0.9477 - val_loss: 0.0611 - val_acc: 0.9750\n",
      "Epoch 14/17\n",
      " - 31s - loss: 0.0624 - acc: 0.9689 - val_loss: 0.0550 - val_acc: 0.9850\n",
      "Epoch 15/17\n",
      " - 31s - loss: 0.0570 - acc: 0.9794 - val_loss: 0.0494 - val_acc: 0.9890\n",
      "Epoch 16/17\n",
      " - 31s - loss: 0.0550 - acc: 0.9784 - val_loss: 0.0475 - val_acc: 0.9890\n",
      "Epoch 17/17\n",
      " - 35s - loss: 0.0524 - acc: 0.9796 - val_loss: 0.0452 - val_acc: 0.9870\n"
     ]
    }
   ],
   "source": [
    "# Fit the model\n",
    "history_fit = model_Ker.fit(data_train, labels_train_ohe, validation_data=(data_valid, labels_valid_ohe), \n",
    "                                            epochs=17, batch_size=500, verbose=2)\n",
    "\n",
    "# Comparisong with prediction\n",
    "predicted = model_Ker.predict(data_valid)"
   ]
  },
  {
   "cell_type": "code",
   "execution_count": 13,
   "metadata": {},
   "outputs": [
    {
     "name": "stdout",
     "output_type": "stream",
     "text": [
      "Classification report for <keras.engine.sequential.Sequential object at 0x11dcb0198>:\n",
      "             precision    recall  f1-score   support\n",
      "\n",
      "     ellipt       0.96      1.00      0.98       308\n",
      "     spiral       1.00      0.98      0.99       692\n",
      "\n",
      "avg / total       0.99      0.99      0.99      1000\n",
      "\n",
      "\n",
      "Confusion matrix:\n",
      "[[308   0]\n",
      " [ 13 679]]\n"
     ]
    }
   ],
   "source": [
    "# Reverse one hot encoding\n",
    "pred = int_enc.inverse_transform(predicted.argmax(1))\n",
    "\n",
    "print(\"Classification report for %s:\\n%s\\n\"\n",
    "      % (model_Ker, metrics.classification_report(labels_valid, pred)))\n",
    "print(\"Confusion matrix:\\n%s\" % metrics.confusion_matrix(labels_valid, pred))"
   ]
  },
  {
   "cell_type": "code",
   "execution_count": 14,
   "metadata": {},
   "outputs": [
    {
     "data": {
      "image/png": "[encoded data removed]",
      "text/plain": [
       "<Figure size 432x288 with 1 Axes>"
      ]
     },
     "metadata": {},
     "output_type": "display_data"
    }
   ],
   "source": [
    "plt.plot(history_fit.history['loss'])\n",
    "plt.plot(history_fit.history['val_loss'])\n",
    "plt.title('model train vs validation loss')\n",
    "plt.ylabel('loss')\n",
    "plt.xlabel('epoch')\n",
    "plt.legend(['train', 'validation'], loc='upper right')\n",
    "plt.show()"
   ]
  },
  {
   "cell_type": "markdown",
   "metadata": {},
   "source": [
    "Trials to find the optimal setup for the model:\n",
    "- 10 epochs, batch=500, 1 hidden layer, (relu, sigmoid) activations => reached precision 92, recall 91 \n",
    "- 10 epochs, batch=500, 1 hidden layer, dropout=0.2 at the initial layer, (relu, sigmoid) activations => reached precision 90, recall 84 \n",
    "- 10 epochs, batch=500, 1 hidden layer, dropout=0.2 at the hidden layer, (relu, sigmoid) activations => reached precision 97, recall 97 \n",
    "- 15 epochs, batch=500, 1 hidden layer, dropout=0.2 at the hidden layer, (relu, sigmoid) activations => reached precision 99, recall 99 \n",
    "\n",
    "(Larger batch size and dropout make the model significantly faster)"
   ]
  },
  {
   "cell_type": "markdown",
   "metadata": {},
   "source": [
    "## Final check \n",
    "Here we are using the test sample for a final check of the various algorithms used above. We check if their performance is as good as it is reported in the validation process."
   ]
  },
  {
   "cell_type": "code",
   "execution_count": 15,
   "metadata": {},
   "outputs": [
    {
     "name": "stdout",
     "output_type": "stream",
     "text": [
      "====================================================================================\n",
      "Classification report for LinearSVC(C=1.0, class_weight=None, dual=True, fit_intercept=True,\n",
      "     intercept_scaling=1, loss='squared_hinge', max_iter=1000,\n",
      "     multi_class='ovr', penalty='l2', random_state=None, tol=0.0001,\n",
      "     verbose=0):\n",
      "             precision    recall  f1-score   support\n",
      "\n",
      "     ellipt       0.90      1.00      0.95       306\n",
      "     spiral       1.00      0.95      0.97       694\n",
      "\n",
      "avg / total       0.97      0.96      0.97      1000\n",
      "\n",
      "\n",
      "Confusion matrix:\n",
      "[[306   0]\n",
      " [ 35 659]] \n",
      "\n",
      "====================================================================================\n",
      "Classification report for LogisticRegression(C=1.0, class_weight=None, dual=False, fit_intercept=True,\n",
      "          intercept_scaling=1, max_iter=100, multi_class='ovr', n_jobs=1,\n",
      "          penalty='l2', random_state=None, solver='liblinear', tol=0.0001,\n",
      "          verbose=0, warm_start=False):\n",
      "             precision    recall  f1-score   support\n",
      "\n",
      "     ellipt       0.92      0.98      0.95       306\n",
      "     spiral       0.99      0.96      0.98       694\n",
      "\n",
      "avg / total       0.97      0.97      0.97      1000\n",
      "\n",
      "\n",
      "Confusion matrix:\n",
      "[[301   5]\n",
      " [ 26 668]] \n",
      "\n",
      "====================================================================================\n",
      "Classification report for MLPClassifier(activation='relu', alpha=0.0001, batch_size='auto', beta_1=0.9,\n",
      "       beta_2=0.999, early_stopping=False, epsilon=1e-08,\n",
      "       hidden_layer_sizes=(100,), learning_rate='constant',\n",
      "       learning_rate_init=0.001, max_iter=200, momentum=0.9,\n",
      "       nesterovs_momentum=True, power_t=0.5, random_state=None,\n",
      "       shuffle=True, solver='adam', tol=0.0001, validation_fraction=0.1,\n",
      "       verbose=False, warm_start=False):\n",
      "             precision    recall  f1-score   support\n",
      "\n",
      "     ellipt       0.94      1.00      0.97       306\n",
      "     spiral       1.00      0.97      0.98       694\n",
      "\n",
      "avg / total       0.98      0.98      0.98      1000\n",
      "\n",
      "\n",
      "Confusion matrix:\n",
      "[[305   1]\n",
      " [ 20 674]] \n",
      "\n",
      "====================================================================================\n",
      "Classification report for RandomForestClassifier(bootstrap=True, class_weight=None, criterion='gini',\n",
      "            max_depth=None, max_features='auto', max_leaf_nodes=None,\n",
      "            min_impurity_decrease=0.0, min_impurity_split=None,\n",
      "            min_samples_leaf=1, min_samples_split=2,\n",
      "            min_weight_fraction_leaf=0.0, n_estimators=10, n_jobs=1,\n",
      "            oob_score=False, random_state=None, verbose=0,\n",
      "            warm_start=False):\n",
      "             precision    recall  f1-score   support\n",
      "\n",
      "     ellipt       0.97      1.00      0.98       306\n",
      "     spiral       1.00      0.99      0.99       694\n",
      "\n",
      "avg / total       0.99      0.99      0.99      1000\n",
      "\n",
      "\n",
      "Confusion matrix:\n",
      "[[305   1]\n",
      " [  9 685]] \n",
      "\n",
      "====================================================================================\n",
      "Classification report for <keras.engine.sequential.Sequential object at 0x11dcb0198>:\n",
      "             precision    recall  f1-score   support\n",
      "\n",
      "     ellipt       0.97      1.00      0.98       306\n",
      "     spiral       1.00      0.99      0.99       694\n",
      "\n",
      "avg / total       0.99      0.99      0.99      1000\n",
      "\n",
      "\n",
      "Confusion matrix:\n",
      "[[305   1]\n",
      " [ 10 684]] \n",
      "\n",
      "====================================================================================\n"
     ]
    }
   ],
   "source": [
    "print(\"====================================================================================\")\n",
    "# Predictions for SVM\n",
    "predicted = model_svc.predict(data_test)\n",
    "print(\"Classification report for %s:\\n%s\\n\"\n",
    "      % (model_svc, metrics.classification_report(labels_test, predicted)))\n",
    "print(\"Confusion matrix:\\n%s \\n\" % metrics.confusion_matrix(labels_test, predicted))\n",
    "print(\"====================================================================================\")\n",
    "\n",
    "# Predictions for LogisticRegression\n",
    "predicted = model_lrc.predict(data_test)\n",
    "print(\"Classification report for %s:\\n%s\\n\"\n",
    "      % (model_lrc, metrics.classification_report(labels_test, predicted)))\n",
    "print(\"Confusion matrix:\\n%s \\n\" % metrics.confusion_matrix(labels_test, predicted))\n",
    "print(\"====================================================================================\")\n",
    "\n",
    "# Predictions for MLP\n",
    "predicted = model_MLP.predict(data_test)\n",
    "print(\"Classification report for %s:\\n%s\\n\"\n",
    "      % (model_MLP, metrics.classification_report(labels_test, predicted)))\n",
    "print(\"Confusion matrix:\\n%s \\n\" % metrics.confusion_matrix(labels_test, predicted))\n",
    "print(\"====================================================================================\")\n",
    "\n",
    "# Predictions for RandomForests\n",
    "predicted = model_RF.predict(data_test)\n",
    "print(\"Classification report for %s:\\n%s\\n\"\n",
    "      % (model_RF, metrics.classification_report(labels_test, predicted)))\n",
    "print(\"Confusion matrix:\\n%s \\n\" % metrics.confusion_matrix(labels_test, predicted))\n",
    "print(\"====================================================================================\")\n",
    "\n",
    "# Predictions for Keras Neural Network\n",
    "predicted = model_Ker.predict(data_test)\n",
    "pred = int_enc.inverse_transform(predicted.argmax(1))\n",
    "print(\"Classification report for %s:\\n%s\\n\"\n",
    "      % (model_Ker, metrics.classification_report(labels_test, pred)))\n",
    "print(\"Confusion matrix:\\n%s \\n\" % metrics.confusion_matrix(labels_test, pred))\n",
    "print(\"====================================================================================\")"
   ]
  },
  {
   "cell_type": "markdown",
   "metadata": {},
   "source": [
    "# Saving the trained models\n",
    "Using pickle we can save the trained models to use them in a later time w/o the need to re-train them."
   ]
  },
  {
   "cell_type": "code",
   "execution_count": 16,
   "metadata": {},
   "outputs": [],
   "source": [
    "import pickle\n",
    "\n",
    "# saving the models to disk\n",
    "model_labels = ['SVC','LogReg','MLP','RandFor','KerNN']\n",
    "models = ['model_SVC','model_LR','model_MLP','model_RF','model_Ker']\n",
    "\n",
    "for modstr,model in zip(model_labels,models):\n",
    "    pickle.dump(model, open('galaxy_classification_zoo_'+modstr+'.sav', 'wb'))"
   ]
  },
  {
   "cell_type": "code",
   "execution_count": 17,
   "metadata": {},
   "outputs": [],
   "source": [
    "# To load the models at a later time:\n",
    "# loaded_model = pickle.load(open(filename, 'rb'))\n",
    "# result = loaded_model.score(X_test, Y_test)\n",
    "# print(result)"
   ]
  },
  {
   "cell_type": "code",
   "execution_count": null,
   "metadata": {},
   "outputs": [],
   "source": []
  }
 ],
 "metadata": {
  "kernelspec": {
   "display_name": "Python 3",
   "language": "python",
   "name": "python3"
  },
  "language_info": {
   "codemirror_mode": {
    "name": "ipython",
    "version": 3
   },
   "file_extension": ".py",
   "mimetype": "text/x-python",
   "name": "python",
   "nbconvert_exporter": "python",
   "pygments_lexer": "ipython3",
   "version": "3.6.5"
  }
 },
 "nbformat": 4,
 "nbformat_minor": 2
}
