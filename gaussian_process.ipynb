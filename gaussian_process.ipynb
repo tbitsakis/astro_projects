{
 "cells": [
  {
   "cell_type": "markdown",
   "metadata": {},
   "source": [
    "# Gaussian Process\n",
    "\n",
    "The Gaussian process is a non-linear regression technique to estimate new unknown values from a set of given values. It basically fits the data with sets of functions, which is estimated in each point using a random value and gaussian uncertainties, and finally fits the data with a line+/- some uncertainty area.\n",
    "\n",
    "### Example:"
   ]
  },
  {
   "cell_type": "code",
   "execution_count": 1,
   "metadata": {},
   "outputs": [],
   "source": [
    "# Importing Libraries\n",
    "import numpy as np\n",
    "import matplotlib.pyplot as plt\n",
    "from astroML.utils import split_samples\n",
    "from sklearn.gaussian_process import GaussianProcessRegressor\n",
    "from sklearn.gaussian_process.kernels import RBF\n",
    "from sklearn.metrics import r2_score\n",
    "\n",
    "%matplotlib inline"
   ]
  },
  {
   "cell_type": "code",
   "execution_count": 2,
   "metadata": {},
   "outputs": [
    {
     "name": "stdout",
     "output_type": "stream",
     "text": [
      "(\"Size of 'X': \", 1341, 'x', 4)\n",
      "(\"Size of 'y': \", 1341)\n"
     ]
    }
   ],
   "source": [
    "# Load data\n",
    "wds = np.load(\"data/SDSS_DR7_WDs.npy\") # the format is python binary numpy format\n",
    "photo_bands = ['u', 'g', 'r', 'i', 'z']\n",
    "X = np.column_stack(wds[photo_bands[i]]-wds[photo_bands[i+1]] for i in range(4))\n",
    "y = wds['Teff']\n",
    "\n",
    "# take 10% of the data because GPR is slow...\n",
    "X = X[:len(X) // 10]\n",
    "y = y[:len(y) // 10]\n",
    "print(\"Size of 'X': \", X.shape[0], \"x\", X.shape[1])\n",
    "print(\"Size of 'y': \", len(y))"
   ]
  },
  {
   "cell_type": "code",
   "execution_count": 3,
   "metadata": {},
   "outputs": [
    {
     "data": {
      "image/png": "[encoded data removed]",
      "text/plain": [
       "<matplotlib.figure.Figure at 0x110befbd0>"
      ]
     },
     "metadata": {},
     "output_type": "display_data"
    },
    {
     "ename": "NameError",
     "evalue": "name 'y_out' is not defined",
     "output_type": "error",
     "traceback": [
      "\u001b[0;31m---------------------------------------------------------------------------\u001b[0m",
      "\u001b[0;31mNameError\u001b[0m                                 Traceback (most recent call last)",
      "\u001b[0;32m<ipython-input-3-75fc01b80744>\u001b[0m in \u001b[0;36m<module>\u001b[0;34m()\u001b[0m\n\u001b[1;32m     19\u001b[0m \u001b[0mplt\u001b[0m\u001b[0;34m.\u001b[0m\u001b[0mshow\u001b[0m\u001b[0;34m(\u001b[0m\u001b[0;34m)\u001b[0m\u001b[0;34m\u001b[0m\u001b[0m\n\u001b[1;32m     20\u001b[0m \u001b[0;34m\u001b[0m\u001b[0m\n\u001b[0;32m---> 21\u001b[0;31m \u001b[0;32mprint\u001b[0m\u001b[0;34m(\u001b[0m\u001b[0;34m\"Coefficient of determination:\"\u001b[0m\u001b[0;34m,\u001b[0m \u001b[0mr2_score\u001b[0m\u001b[0;34m(\u001b[0m\u001b[0my_test\u001b[0m\u001b[0;34m,\u001b[0m \u001b[0my_out\u001b[0m\u001b[0;34m)\u001b[0m\u001b[0;34m)\u001b[0m\u001b[0;34m\u001b[0m\u001b[0m\n\u001b[0m\u001b[1;32m     22\u001b[0m \u001b[0;32mprint\u001b[0m\u001b[0;34m(\u001b[0m\u001b[0;34m\"Mean error\"\u001b[0m\u001b[0;34m,\u001b[0m \u001b[0mnp\u001b[0m\u001b[0;34m.\u001b[0m\u001b[0mmean\u001b[0m\u001b[0;34m(\u001b[0m\u001b[0my_err\u001b[0m\u001b[0;34m)\u001b[0m\u001b[0;34m)\u001b[0m\u001b[0;34m\u001b[0m\u001b[0m\n",
      "\u001b[0;31mNameError\u001b[0m: name 'y_out' is not defined"
     ]
    }
   ],
   "source": [
    "def do_gpr():\n",
    "    (X_train, X_test), (y_train, y_test) = split_samples(X, y, [0.7, 0.3], random_state=0)\n",
    "    gpr = GaussianProcessRegressor(kernel=RBF(length_scale=0.1), normalize_y=True, alpha=1.0)\n",
    "    gpr.fit(X_train, y_train)\n",
    "    y_pred, y_err = gpr.predict(X_test,return_std=True)\n",
    "    return y_test, y_pred, y_err\n",
    "\n",
    "\n",
    "# get test y-value and predicted ones\n",
    "y_test, y_pred, y_err = do_gpr()\n",
    "\n",
    "\n",
    "plt.figure()\n",
    "plt.loglog(y_test, y_pred, \"k.\")\n",
    "plt.loglog([5e3,1e5],[5e3,1e5],label='1-1 line')\n",
    "plt.xlabel(\"True temperature (K)\")\n",
    "plt.ylabel(\"Predicted temperature (K)\")\n",
    "plt.legend()\n",
    "plt.show()\n",
    "\n",
    "print(\"Coefficient of determination:\", r2_score(y_test, y_out))\n",
    "print(\"Mean error\", np.mean(y_err))"
   ]
  },
  {
   "cell_type": "code",
   "execution_count": null,
   "metadata": {},
   "outputs": [],
   "source": []
  }
 ],
 "metadata": {
  "kernelspec": {
   "display_name": "Python 2",
   "language": "python",
   "name": "python2"
  },
  "language_info": {
   "codemirror_mode": {
    "name": "ipython",
    "version": 2
   },
   "file_extension": ".py",
   "mimetype": "text/x-python",
   "name": "python",
   "nbconvert_exporter": "python",
   "pygments_lexer": "ipython2",
   "version": "2.7.10"
  }
 },
 "nbformat": 4,
 "nbformat_minor": 2
}
