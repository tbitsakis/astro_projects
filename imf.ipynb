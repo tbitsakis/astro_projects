{
 "cells": [
  {
   "cell_type": "markdown",
   "metadata": {},
   "source": [
    "# Stellar Initial Mass Function (IMF)\n",
    "We are going to use a Salpeter IMF to generate stellar IMF data and then use MCMC to guess the slope.\n",
    "\n",
    "The Salpeter IMF is given by:\n",
    "$\\frac{dN}{dM} \\propto \\frac{M}{M_\\odot}^{-\\alpha} ~~ or ~~ \\frac{dN}{dlogM} \\propto \\frac{M}{M_\\odot}^{1-\\alpha}$"
   ]
  },
  {
   "cell_type": "code",
   "execution_count": 60,
   "metadata": {},
   "outputs": [],
   "source": [
    "import numpy as np\n",
    "import matplotlib.pyplot as plt\n",
    "import copy\n",
    "import corner\n",
    "import emcee\n",
    "\n",
    "%matplotlib inline"
   ]
  },
  {
   "cell_type": "code",
   "execution_count": 61,
   "metadata": {},
   "outputs": [],
   "source": [
    "def sampleFromSalpeter(N,alpha,M_min,M_max):\n",
    "    # Draw random samples from a Salpeter IMF.\n",
    "    # N     ... number of samples.\n",
    "    # alpha ... power-law index.\n",
    "    # M_min ... lower bound of mass interval.\n",
    "    # M_max ... upper bound of mass interval.\n",
    "    # Convert limits from M to logM.\n",
    "    log_M_Min = np.log(M_min)\n",
    "    log_M_Max = np.log(M_max)\n",
    "    # Since Salpeter SMF has a negative slope the maximum likelihood occurs at M_min\n",
    "    maxlik = M_min**(1.0 - alpha)\n",
    "    \n",
    "    # Prepare array for output masses.\n",
    "    Masses = []\n",
    "    # Fill in array.\n",
    "    while (len(Masses) < N):\n",
    "        # Draw a candidate from logM interval.\n",
    "        logM = np.random.uniform(log_M_Min,log_M_Max)\n",
    "        M = np.exp(logM)\n",
    "        # Compute likelihood of candidate from Salpeter SMF.\n",
    "        likelihood = M**(1.0 - alpha)\n",
    "        # Accept randomly.\n",
    "        u = np.random.uniform(0.0,maxlik)\n",
    "        if (u < likelihood):\n",
    "            Masses.append(M)\n",
    "    return Masses\n",
    "\n",
    "# and now generate the data\n",
    "N      = 1000000  # Draw 1 Million stellar masses.\n",
    "alpha  = 2.35\n",
    "M_min  = 1.0\n",
    "M_max  = 100.0\n",
    "log_M_min  = np.log10(M_min)\n",
    "log_M_max  = np.log10(M_max)\n",
    "Masses = sampleFromSalpeter(N, alpha, M_min, M_max)\n",
    "LogM   = np.log(np.array(Masses))\n",
    "D      = np.mean(LogM)*N"
   ]
  },
  {
   "cell_type": "markdown",
   "metadata": {},
   "source": [
    "Here we have created a set of test stellar mass data, distributed according to the Salpeter IMF, and now we will perform a MCMC to guess the slope.  \n",
    "\n",
    "We are given then a set of N-stellar masses, with negligible errors in the measurements.\n",
    "Assuming that the minimum and maximum masses are known, the likelihood of the problem is: \n",
    "\n",
    "$\\mathcal L(\\{M_1,M_2,\\ldots,M_N\\};\\alpha) = \\prod_{n=1}^N p(M_n|\\alpha) = \\prod_{n=1}^N c\\left(\\frac{M_n}{M_\\odot}\\right)^{-\\alpha}$\n",
    "\n",
    "where the normalization constant c can be found by:\n",
    "\n",
    "$\\int_{M_{min}}^{M_{max}}c M^{-\\alpha} dM = 1 \\Rightarrow c\\frac{M_{max}^{1-\\alpha}-M_{min}^{1-\\alpha}}{1-\\alpha}=1$\n",
    "\n",
    "### 1) EMCEE MCMC"
   ]
  },
  {
   "cell_type": "code",
   "execution_count": 62,
   "metadata": {},
   "outputs": [],
   "source": [
    "def ln_likelihood(params, D, N, M_min, M_max):\n",
    "    # Define logarithmic likelihood function.\n",
    "    # params ... array of fit params, here just alpha\n",
    "    # D      ... sum over log(M_n)\n",
    "    # N      ... number of data points.\n",
    "    # M_min  ... lower limit of mass interval\n",
    "    # M_max  ... upper limit of mass interval\n",
    "    alpha = params[0]  # extract alpha\n",
    "    # Compute normalisation constant.\n",
    "    c = (1.0 - alpha)/(M_max**(1.0-alpha)\n",
    "                        - M_min**(1.0-alpha))\n",
    "    # return log likelihood.\n",
    "    return N*np.log(c) - alpha*D\n",
    "\n",
    "def ln_prior(params):\n",
    "    return 0.0\n",
    "\n",
    "def ln_posterior(params, D, N, M_min, M_max):\n",
    "    lp = ln_prior(params)\n",
    "    ll = ln_likelihood(params, D, N, M_min, M_max)\n",
    "    return lp+ll"
   ]
  },
  {
   "cell_type": "code",
   "execution_count": 63,
   "metadata": {},
   "outputs": [],
   "source": [
    "# Running the MCMC\n",
    "nwalkers, ndim = 100, 50\n",
    "\n",
    "# The array of initial guess\n",
    "initial = np.array([3.0])\n",
    "p0 = [np.random.rand(ndim) for i in range(nwalkers)]\n",
    "\n",
    "sampler = emcee.EnsembleSampler(nwalkers, ndim, ln_posterior, args=(D, N, M_min, M_max))\n",
    "pos, prob, state = sampler.run_mcmc(p0, 1000)"
   ]
  },
  {
   "cell_type": "code",
   "execution_count": 64,
   "metadata": {},
   "outputs": [
    {
     "data": {
      "image/png": "[encoded data removed]",
      "text/plain": [
       "<matplotlib.figure.Figure at 0x24fee21d0>"
      ]
     },
     "metadata": {},
     "output_type": "display_data"
    },
    {
     "name": "stdout",
     "output_type": "stream",
     "text": [
      "('The alpha is', 2.3569855770750161)\n"
     ]
    }
   ],
   "source": [
    "# Plot the trace\n",
    "fig, ax = plt.subplots(1,1, figsize=(4,4))\n",
    "\n",
    "# Plot trace\n",
    "for j in range(nwalkers):\n",
    "    ax.plot(sampler.chain[j,:,0], alpha=0.1, color='k')\n",
    "plt.ylim(2.2,2.4)\n",
    "plt.show()\n",
    "\n",
    "print('The alpha is',pos[0,0])"
   ]
  },
  {
   "cell_type": "code",
   "execution_count": 43,
   "metadata": {},
   "outputs": [],
   "source": [
    "# # Reset the sampler, restart the sampler at this current position, \n",
    "# # which we saved from before and called \"pos\"\n",
    "# sampler.reset()\n",
    "# pos,prob,state = sampler.run_mcmc(pos,1000)\n",
    "# corner.corner(sampler.flatchain)\n",
    "\n",
    "# plt.show()"
   ]
  },
  {
   "cell_type": "markdown",
   "metadata": {},
   "source": [
    "### 2) We will give an example using the Metropolis-Hastings MCMC."
   ]
  },
  {
   "cell_type": "code",
   "execution_count": 44,
   "metadata": {},
   "outputs": [
    {
     "name": "stdout",
     "output_type": "stream",
     "text": [
      "Acceptance rate = 0.7625\n"
     ]
    }
   ],
   "source": [
    "# initial guess for alpha as a list.\n",
    "guess = [3.0]\n",
    "# Prepare storing MCMC chain as list of lists.\n",
    "A = [guess]\n",
    "# define stepsize of MCMC.\n",
    "stepsizes = [0.0005]  # list of stepsizes\n",
    "accepted  = 0.0\n",
    "\n",
    "# Metropolis-Hastings with 10,000 iterations.\n",
    "for n in range(10000):\n",
    "    old_alpha  = A[len(A)-1]  # old parameter value as array\n",
    "    old_loglik = ln_likelihood(old_alpha, D, N, M_min,M_max)\n",
    "    # Suggest new candidate from Gaussian proposal distribution.\n",
    "    new_alpha = np.zeros([len(old_alpha)])\n",
    "    for i in range(len(old_alpha)):\n",
    "        # Use stepsize provided for every dimension.\n",
    "        new_alpha[i] = np.random.normal(old_alpha[i], stepsizes[i])\n",
    "    new_loglik = ln_likelihood(new_alpha, D, N, M_min,M_max)\n",
    "    # Accept new candidate in Monte-Carlo fashing.\n",
    "    if (new_loglik > old_loglik):\n",
    "        A.append(new_alpha)\n",
    "        accepted = accepted + 1.0  # monitor acceptance\n",
    "    else:\n",
    "        u = np.random.uniform(0.0,1.0)\n",
    "        if (u < np.exp(new_loglik - old_loglik)):\n",
    "            A.append(new_alpha)\n",
    "            accepted = accepted + 1.0  # monitor acceptance\n",
    "        else:\n",
    "            A.append(old_alpha)\n",
    "\n",
    "print(\"Acceptance rate = \"+str(accepted/10000.0))"
   ]
  },
  {
   "cell_type": "code",
   "execution_count": 45,
   "metadata": {},
   "outputs": [],
   "source": [
    "# Discard first half of MCMC chain and thin out the rest.\n",
    "Clean = []\n",
    "for n in range(5000,10000):\n",
    "    if (n % 10 == 0):\n",
    "        Clean.append(A[n][0])"
   ]
  },
  {
   "cell_type": "code",
   "execution_count": 46,
   "metadata": {},
   "outputs": [
    {
     "name": "stdout",
     "output_type": "stream",
     "text": [
      "Mean:  2.3494898514\n",
      "Sigma: 0.00132986120388\n"
     ]
    }
   ],
   "source": [
    "# Print Monte-Carlo estimate of alpha.\n",
    "print(\"Mean:  \"+str(np.mean(Clean)))\n",
    "print(\"Sigma: \"+str(np.std(Clean)))"
   ]
  },
  {
   "cell_type": "code",
   "execution_count": 47,
   "metadata": {},
   "outputs": [
    {
     "data": {
      "image/png": "[encoded data removed]",
      "text/plain": [
       "<matplotlib.figure.Figure at 0x24fa9c490>"
      ]
     },
     "metadata": {},
     "output_type": "display_data"
    }
   ],
   "source": [
    "plt.figure(1)\n",
    "plt.hist(Clean, 30, histtype='step', lw=2)\n",
    "plt.xticks([2.346,2.348,2.35,2.352,2.354],\n",
    "           [2.346,2.348,2.35,2.352,2.354])\n",
    "plt.xlim(2.345,2.355)\n",
    "plt.xlabel(r'$\\alpha$', fontsize=16)\n",
    "plt.ylabel(r'$\\cal L($Data$;\\alpha)$', fontsize=16)\n",
    "plt.show()"
   ]
  },
  {
   "cell_type": "markdown",
   "metadata": {},
   "source": [
    "### 3) We will now perform the same procedure with Hamiltonian dynamics"
   ]
  },
  {
   "cell_type": "code",
   "execution_count": 51,
   "metadata": {},
   "outputs": [],
   "source": [
    "def evaluateGradient(params, D, N, M_min, M_max, logMmin, logMmax):\n",
    "    alpha = params[0]  # extract alpha\n",
    "    grad = logMmin*M_min**(1.0-alpha) - logMmax*M_max**(1.0-alpha)\n",
    "    grad = 1.0 + grad*(1.0 - alpha)/(M_max**(1.0-alpha)\n",
    "            - M_min**(1.0-alpha))\n",
    "    grad = -D - N*grad/(1.0 - alpha)\n",
    "    return np.array(grad)"
   ]
  },
  {
   "cell_type": "code",
   "execution_count": 54,
   "metadata": {},
   "outputs": [
    {
     "name": "stdout",
     "output_type": "stream",
     "text": [
      "Acceptance rate = 0.602507949841\n"
     ]
    }
   ],
   "source": [
    "guess = [3.0]\n",
    "A = [guess]\n",
    "# define stepsize of HMC.\n",
    "stepsize = 0.00004\n",
    "accepted  = 0.0\n",
    "\n",
    "# Hamiltonian Monte-Carlo.\n",
    "for n in range(50000):\n",
    "    old_alpha  = A[len(A)-1]\n",
    "    # Remember, energy = -loglik\n",
    "    old_energy = - ln_likelihood(old_alpha, D, N, M_min, M_max)\n",
    "    old_grad   = - evaluateGradient(old_alpha, D, N, M_min, M_max, log_M_min, log_M_max)\n",
    "\n",
    "    new_alpha = copy.copy(old_alpha)  # deep copy of array\n",
    "    new_grad  = copy.copy(old_grad)   # deep copy of array\n",
    "    # Suggest new candidate using gradient + Hamiltonian dynamics.\n",
    "    # draw random momentum vector from unit Gaussian.\n",
    "    p = np.random.normal(0.0, 1.0)\n",
    "    H = np.dot(p,p)/2.0 + old_energy    # compute Hamiltonian\n",
    "\n",
    "    # Do 5 Leapfrog steps.\n",
    "    for tau in range(5):\n",
    "        # make half step in p\n",
    "        p         = p - stepsize*new_grad/2.0\n",
    "        # make full step in alpha\n",
    "        new_alpha = new_alpha + stepsize*p\n",
    "        # compute new gradient\n",
    "        new_grad  = - evaluateGradient(old_alpha, D, N, M_min,\n",
    "                         M_max, log_M_min, log_M_max)\n",
    "        # make half step in p\n",
    "        p         = p - stepsize*new_grad/2.0\n",
    "\n",
    "    # Compute new Hamiltonian. Remember, energy = -loglik.\n",
    "    new_energy = - ln_likelihood(new_alpha, D, N, M_min,\n",
    "                     M_max)\n",
    "    new_grad  = - evaluateGradient(old_alpha,D, N, M_min,\n",
    "                         M_max, log_M_min, log_M_max)\n",
    "    newH       = np.dot(p,p)/2.0 + new_energy\n",
    "    dH         = newH - H\n",
    "\n",
    "    # Accept new candidate in Monte-Carlo fashion.\n",
    "    if (dH < 0.0):\n",
    "        A.append(new_alpha)\n",
    "        accepted = accepted + 1.0\n",
    "    else:\n",
    "        u = np.random.uniform(0.0,1.0)\n",
    "        if (u < np.exp(-dH)):\n",
    "            A.append(new_alpha)\n",
    "            accepted = accepted + 1.0\n",
    "        else:\n",
    "            A.append(old_alpha)\n",
    "\n",
    "print(\"Acceptance rate = \"+str(accepted/float(len(A))))"
   ]
  },
  {
   "cell_type": "code",
   "execution_count": 55,
   "metadata": {},
   "outputs": [
    {
     "name": "stdout",
     "output_type": "stream",
     "text": [
      "Mean:  2.34944128996\n",
      "Sigma: 0.00146921517324\n"
     ]
    }
   ],
   "source": [
    "# Discard first half of MCMC chain and thin out the rest.\n",
    "Clean = []\n",
    "for n in range(len(A)//2,len(A)):\n",
    "    if (n % 10 == 0):\n",
    "        Clean.append(A[n][0])\n",
    "        \n",
    "# Print Monte-Carlo estimate of alpha.\n",
    "print(\"Mean:  \"+str(np.mean(Clean)))\n",
    "print(\"Sigma: \"+str(np.std(Clean)))"
   ]
  },
  {
   "cell_type": "code",
   "execution_count": 59,
   "metadata": {},
   "outputs": [
    {
     "data": {
      "image/png": "[encoded data removed]",
      "text/plain": [
       "<matplotlib.figure.Figure at 0x24ffb4b10>"
      ]
     },
     "metadata": {},
     "output_type": "display_data"
    }
   ],
   "source": [
    "plt.figure(1)\n",
    "plt.hist(Clean, 30, histtype='step', lw=2)\n",
    "#plt.xlim(2.3,2.358)\n",
    "plt.xlabel(r'$\\alpha$', fontsize=16)\n",
    "plt.ylabel(r'$\\cal L($Data$;\\alpha)$', fontsize=16)\n",
    "plt.show()"
   ]
  },
  {
   "cell_type": "code",
   "execution_count": null,
   "metadata": {},
   "outputs": [],
   "source": []
  }
 ],
 "metadata": {
  "kernelspec": {
   "display_name": "Python 2",
   "language": "python",
   "name": "python2"
  },
  "language_info": {
   "codemirror_mode": {
    "name": "ipython",
    "version": 2
   },
   "file_extension": ".py",
   "mimetype": "text/x-python",
   "name": "python",
   "nbconvert_exporter": "python",
   "pygments_lexer": "ipython2",
   "version": "2.7.10"
  }
 },
 "nbformat": 4,
 "nbformat_minor": 2
}
